{
 "cells": [
  {
   "cell_type": "markdown",
   "id": "3fa5b748-e61c-4471-a580-c0b1d9b9d0ca",
   "metadata": {},
   "source": [
    "# [Problem 1: Hello World](https://www.hackerrank.com/challenges/py-hello-world/problem)\n",
    "\n",
    "## Problem Statement\n",
    "\n",
    "You are given a task to print \"Hello, World!\" in Python.\n",
    "\n",
    "### Input:\n",
    "- No input is provided.\n",
    "\n",
    "### Output:\n",
    "- Output the string \"Hello, World!\" to the console.\n",
    "### Code:"
   ]
  },
  {
   "cell_type": "code",
   "execution_count": 4,
   "id": "3993a137-b08b-42f3-8a5f-785b8373de81",
   "metadata": {},
   "outputs": [
    {
     "name": "stdout",
     "output_type": "stream",
     "text": [
      "Hello, World!\n"
     ]
    }
   ],
   "source": [
    "if __name__ == '__main__':\n",
    "    print(\"Hello, World!\")"
   ]
  },
  {
   "cell_type": "markdown",
   "id": "f8b468ed-5ed9-4ac3-b2c2-f2e7d8961907",
   "metadata": {},
   "source": [
    "# [Problem 2: Write a Function](https://www.hackerrank.com/challenges/write-a-function/problem)\n",
    "\n",
    "## Problem Statement\n",
    "\n",
    "An extra day is added to the calendar almost every four years as February 29, and the day is called a leap day. It corrects the calendar for the fact that our planet takes approximately 365.25 days to orbit the sun. A leap year contains a leap day.\n",
    "\n",
    "In the Gregorian calendar, three conditions are used to identify leap years:\n",
    "\n",
    "The year can be evenly divided by 4, is a leap year, unless:\n",
    "The year can be evenly divided by 100, it is NOT a leap year, unless:\n",
    "The year is also evenly divisible by 400. Then it is a leap year.\n",
    "This means that in the Gregorian calendar, the years 2000 and 2400 are leap years, while 1800, 1900, 2100, 2200, 2300 and 2500 are NOT leap years.\n",
    "\n",
    "### Input Format:\n",
    "- The input will contain a single integer, `year` (1900 ≤ year ≤ 10^5).\n",
    "\n",
    "### Output Format:\n",
    "- The function must return `True` if the year is a leap year, `False` otherwise.\n",
    "\n",
    "### Approach\n",
    "- Checking for conditions in a branching way to guaranteed that all conditions satisfy\n",
    "### Code:"
   ]
  },
  {
   "cell_type": "code",
   "execution_count": 5,
   "id": "16cfc50b-8f89-4114-93a6-ee8e19594ec7",
   "metadata": {},
   "outputs": [
    {
     "name": "stdin",
     "output_type": "stream",
     "text": [
      " 2014\n"
     ]
    },
    {
     "name": "stdout",
     "output_type": "stream",
     "text": [
      "False\n"
     ]
    }
   ],
   "source": [
    "def is_leap(year):\n",
    "    leap = False\n",
    "    \n",
    "    # Write your logic here\n",
    "    if year % 4 == 0:\n",
    "        if year % 100:\n",
    "            leap = True\n",
    "        elif year % 400 == 0:\n",
    "            leap = True\n",
    "    return leap\n",
    "\n",
    "year = int(input())\n",
    "print(is_leap(year))"
   ]
  },
  {
   "cell_type": "markdown",
   "id": "7938605f-f2da-4abf-a363-95bc16c3845d",
   "metadata": {},
   "source": [
    "# [Problem 3: Company Logo](https://www.hackerrank.com/challenges/most-commons/problem)\n",
    "\n",
    "## Problem Statement\n",
    "\n",
    "A newly opened multinational brand has decided to base their company logo on the three most common characters in the company name. They are now trying out various combinations of company names and logos based on this condition. Given a string , which is the company name in lowercase letters, your task is to find the top three most common characters in the string.\n",
    "\n",
    "Print the three most common characters along with their occurrence count.\n",
    "Sort in descending order of occurrence count.\n",
    "If the occurrence count is the same, sort the characters in alphabetical order.\n",
    "\n",
    "### Input Format:\n",
    "- A single line of text with characters.\n",
    "\n",
    "### Output Format:\n",
    "- Print the three most common characters along with their frequencies, each on a new line.\n",
    "- Print the characters in descending order of frequency. If frequencies are the same, then characters should be sorted lexicographically.\n",
    "\n",
    "### Approach:\n",
    "- Counting frequency of each character by using a dictionary (after sorting the string to maintain order in case of equal appearing characters), then reverse sorting it by value and then output the first 3 elements\n",
    "### Code"
   ]
  },
  {
   "cell_type": "code",
   "execution_count": null,
   "id": "b519d5d8-31d1-46dd-9ff3-5a2abbf5d7c7",
   "metadata": {},
   "outputs": [],
   "source": [
    "import math\n",
    "import os\n",
    "import random\n",
    "import re\n",
    "import sys\n",
    "\n",
    "\n",
    "\n",
    "if __name__ == '__main__':\n",
    "    s = input()\n",
    "    s = sorted(s)\n",
    "    dic = {}\n",
    "    for ch in s:\n",
    "        if ch in dic:\n",
    "            dic[ch]+=1\n",
    "        else:\n",
    "            dic[ch] = 1\n",
    "    pp = sorted(dic.items(), key = lambda x:x[1] , reverse=True)[:3]\n",
    "    for c, fq in pp:\n",
    "        print(f\"{c} {fq}\")        \n"
   ]
  },
  {
   "cell_type": "markdown",
   "id": "6ffdb18b-e565-408a-ad9b-78e179753b12",
   "metadata": {},
   "source": [
    "# [Problem 4: Sort Sort](https://www.hackerrank.com/challenges/python-sort-sort/problem)\n",
    "\n",
    "## Problem Statement\n",
    "\n",
    "You are given a spreadsheet containing data for several **N** athletes in different attributes, such as height, age, or score. You are given an integer, **K**, and your task is to sort the data by the **K**th attribute (0-indexed) in ascending order. If two athletes have the same value in the **K**th attribute, they retain their original relative order in the sorted output.\n",
    "![](https://s3.amazonaws.com/hr-assets/0/1514874268-6fabad07aa-AthleteSort2.png)\n",
    "### Input Format:\n",
    "- The first line contains **N** and **M**, the number of rows and columns in the spreadsheet.\n",
    "- The next **N** lines each contain **M** integers.\n",
    "- The last line contains the integer **K**.\n",
    "\n",
    "### Output Format:\n",
    "- Print the rows of the spreadsheet sorted in ascending order by the **K**th attribute.\n",
    "### Approach:\n",
    "- Sorting using a function that prioritize k-th attribute\n",
    "### Code:"
   ]
  },
  {
   "cell_type": "code",
   "execution_count": null,
   "id": "06103d55-97cf-4c7b-a20e-c214837aa4e9",
   "metadata": {},
   "outputs": [],
   "source": [
    "import math\n",
    "import os\n",
    "import random\n",
    "import re\n",
    "import sys\n",
    "\n",
    "if __name__ == '__main__':\n",
    "    first_multiple_input = input().rstrip().split()\n",
    "\n",
    "    n = int(first_multiple_input[0])\n",
    "\n",
    "    m = int(first_multiple_input[1])\n",
    "\n",
    "    arr = []\n",
    "\n",
    "    for _ in range(n):\n",
    "        arr.append(list(map(int, input().rstrip().split())))\n",
    "\n",
    "    k = int(input().strip())\n",
    "    arr.sort(lambda x:x[k])\n",
    "    for i in arr:\n",
    "        print(*i)\n"
   ]
  },
  {
   "cell_type": "markdown",
   "id": "c82361f1-2ab7-44ec-831f-fce094905a61",
   "metadata": {},
   "source": [
    "# [Problem 5: Python If-Else](https://www.hackerrank.com/challenges/py-if-else/problem)\n",
    "\n",
    "## Problem Statement\n",
    "\n",
    "Given an integer, **n**, perform the following conditional actions:\n",
    "- If **n** is odd, print `\"Weird\"`.\n",
    "- If **n** is even and in the inclusive range of 2 to 5, print `\"Not Weird\"`.\n",
    "- If **n** is even and in the inclusive range of 6 to 20, print `\"Weird\"`.\n",
    "- If **n** is even and greater than 20, print `\"Not Weird\"`.\n",
    "\n",
    "### Input Format:\n",
    "- A single line containing a positive integer, **n**.\n",
    "\n",
    "### Output Format:\n",
    "- Print `\"Weird\"` if the number is weird; otherwise, print `\"Not Weird\"`.\n",
    "\n",
    "### Approach:\n",
    "- Checking for constrains using simple if statement\n",
    "#### Code:"
   ]
  },
  {
   "cell_type": "code",
   "execution_count": null,
   "id": "ab3121db-385a-4063-b02a-437527763bdd",
   "metadata": {},
   "outputs": [],
   "source": [
    "import math\n",
    "import os\n",
    "import random\n",
    "import re\n",
    "import sys\n",
    "\n",
    "\n",
    "\n",
    "if __name__ == '__main__':\n",
    "    n = int(input().strip())\n",
    "    w = False\n",
    "    if n%2:\n",
    "        w = True\n",
    "    elif n >= 6 and n <= 20:\n",
    "        w = True\n",
    "    print(\"Weird\" if w else \"Not Weird\")\n",
    "           \n"
   ]
  },
  {
   "cell_type": "markdown",
   "id": "a4e0a5aa-d612-4578-9cb1-6158158f97c6",
   "metadata": {},
   "source": [
    "# [Problem 6: Python Arithmetic Operators](https://www.hackerrank.com/challenges/python-arithmetic-operators/problem)\n",
    "\n",
    "## Problem Statement\n",
    "\n",
    "Given two integers, **a** and **b**, perform the following operations:\n",
    "1. Print the result of **a + b**.\n",
    "2. Print the result of **a - b**.\n",
    "3. Print the result of **a * b**.\n",
    "\n",
    "### Input Format:\n",
    "- The first line contains the integer **a**.\n",
    "- The second line contains the integer **b**.\n",
    "\n",
    "### Output Format:\n",
    "- Print three lines:\n",
    "  - The first line should contain the result of **a + b**.\n",
    "  - The second line should contain the result of **a - b**.\n",
    "  - The third line should contain the result of **a * b**.\n",
    "\n",
    "### Approach:\n",
    "- Simply outputting the three arthematic operations\n",
    "#### Code:"
   ]
  },
  {
   "cell_type": "code",
   "execution_count": null,
   "id": "b06d555b-fda3-4dd2-8d6e-902103923daa",
   "metadata": {},
   "outputs": [],
   "source": [
    "if __name__ == '__main__':\n",
    "    a = int(input())\n",
    "    b = int(input())\n",
    "    \n",
    "    print(a+b)\n",
    "    print(a-b)\n",
    "    print(a*b)"
   ]
  },
  {
   "cell_type": "markdown",
   "id": "9dff91f7-dded-435a-b106-a7dd97324997",
   "metadata": {},
   "source": [
    "# [Problem 7: Word Order](https://www.hackerrank.com/challenges/word-order/problem)\n",
    "\n",
    "## Problem Statement\n",
    "\n",
    "You are given **n** words. Some words may repeat. For each word, output its number of occurrences. The output order should correspond with the input order of appearance of the word.\n",
    "\n",
    "### Input Format:\n",
    "- The first line contains an integer **n**.\n",
    "- The next **n** lines each contain a word.\n",
    "\n",
    "### Output Format:\n",
    "- On the first line, output the number of distinct words from the input.\n",
    "- On the second line, output the number of occurrences for each distinct word according to their appearance in the input.\n",
    "\n",
    "### Approach:\n",
    "- Count frequency of each word using dictionary\n",
    "#### Code:"
   ]
  },
  {
   "cell_type": "code",
   "execution_count": null,
   "id": "e550af53-63d0-42e4-bbf8-68373b5cf81e",
   "metadata": {},
   "outputs": [],
   "source": [
    "# Enter your code here. Read input from STDIN. Print output to STDOUT\n",
    "\n",
    "t = int(input())\n",
    "dicti = {}\n",
    "ord = []\n",
    "for _ in range(t):\n",
    "    str = input()\n",
    "    if str not in dicti:\n",
    "        dicti[str] = 1\n",
    "        ord.append(str)\n",
    "    else:\n",
    "        dicti[str]+=1\n",
    "        \n",
    "print(len(ord))\n",
    "print(*[dicti[str] for str in ord])\n"
   ]
  },
  {
   "cell_type": "markdown",
   "id": "dfa5e466-5ac7-4ea6-b8a9-b2c452585b5b",
   "metadata": {},
   "source": [
    "# [Problem 8: No Idea!](https://www.hackerrank.com/challenges/no-idea/problem)\n",
    "\n",
    "## Problem Statement\n",
    "\n",
    "There is an array of integers. You are given two sets, **A** and **B**, each containing some integers. Your initial happiness is **0**. For each integer in the array:\n",
    "- If the integer is in set **A**, you add **1** to your happiness.\n",
    "- If the integer is in set **B**, you subtract **1** from your happiness.\n",
    "- Otherwise, your happiness does not change.\n",
    "\n",
    "Your task is to compute the final happiness value.\n",
    "\n",
    "### Input Format:\n",
    "- The first line contains integers **n** and **m** separated by a space.\n",
    "  - **n**: the number of elements in the array.\n",
    "  - **m**: the number of elements in sets **A** and **B**.\n",
    "- The second line contains **n** space-separated integers, describing the array.\n",
    "- The third line contains **m** space-separated integers, denoting the elements of set **A**.\n",
    "- The fourth line contains **m** space-separated integers, denoting the elements of set **B**.\n",
    "\n",
    "### Output Format:\n",
    "- Output a single integer, the final calculated happiness.\n",
    "\n",
    "### Approach:\n",
    "- iterating over the array while having a happiness counter, incrementing if it's in a else if it's in b we decrement\n",
    "#### Code:"
   ]
  },
  {
   "cell_type": "code",
   "execution_count": null,
   "id": "33158ed7-7709-4099-b2e6-7abb40973627",
   "metadata": {},
   "outputs": [],
   "source": [
    "# Enter your code here. Read input from STDIN. Print output to STDOUT\n",
    "n, m = map(int, input().split())\n",
    "arr = map(int, input().split())\n",
    "a = set(map(int, input().split()))\n",
    "b = set(map(int, input().split()))\n",
    "\n",
    "happ = 0\n",
    "for e in arr:\n",
    "    happ+=(e in a)\n",
    "    happ -= (e in b)\n",
    "print(happ)"
   ]
  },
  {
   "cell_type": "markdown",
   "id": "a9a3bfe1-6b80-49f3-b5e3-1e2b7e006061",
   "metadata": {},
   "source": [
    "# [Problem 9: Nested List](https://www.hackerrank.com/challenges/nested-list/problem)\n",
    "\n",
    "## Problem Statement\n",
    "\n",
    "Given the names and grades for each student in a class, you have to find the names of students with the second lowest grade.\n",
    "\n",
    "### Input Format:\n",
    "- The first line contains an integer, **n**, the number of students.\n",
    "- The next **n** lines contain the name and grade of each student, separated by a space.\n",
    "\n",
    "### Output Format:\n",
    "- Print the names of students with the second lowest grade in alphabetical order. If there are multiple students with the second lowest grade, print them each on a new line.\n",
    "\n",
    "### Approach:\n",
    "- Sorting the array using grade as key, if two equal grades then by name (to output names in alphabetical order if multiple existed), then iterating over the array output every name with the second lowest grade\n",
    "#### Code:"
   ]
  },
  {
   "cell_type": "code",
   "execution_count": null,
   "id": "1db50780-bb79-431f-87f0-5abca925a8e4",
   "metadata": {},
   "outputs": [],
   "source": [
    "if __name__ == '__main__':\n",
    "    ar = []\n",
    "    for _ in range(int(input())):\n",
    "        name = input()\n",
    "        score = float(input())\n",
    "        ar.append((score, name))\n",
    "    \n",
    "    ar.sort(lambda x: (x[0],x[1]))\n",
    "    grade = list({g for g, s in ar})[1]\n",
    "    print('\\n'.join([n for g, n in ar if g==grade]))\n"
   ]
  },
  {
   "cell_type": "markdown",
   "id": "aecf6541-d801-4d83-ac70-508fdaa68912",
   "metadata": {},
   "source": [
    "# [Problem 10: List Comprehensions](https://www.hackerrank.com/challenges/list-comprehensions/problem)\n",
    "\n",
    "## Problem Statement\n",
    "\n",
    "Let's learn about list comprehensions! You are given three integers **x**, **y**, **z** and  representing the dimensions of a cuboid along with an integer **n**. Print a list of all possible coordinates given by (i, j, k) on a 3D grid where the sum of **i+j+k** is not equal to **n**.\n",
    "\n",
    "### Input Format:\n",
    "- Four integers **x**, **y**, **z** and **n** each on separate line.\n",
    "\n",
    "### Constrains:\n",
    "- Print the list in lexicographic increasing order.\n",
    "\n",
    "### Approach:\n",
    "- Iterating over all possible combinations of the three variables if the combination satisfy the constrain append it to the list.\n",
    "#### Code:"
   ]
  },
  {
   "cell_type": "code",
   "execution_count": null,
   "id": "e3e5df7c-b0d4-468c-9bdf-0c3fc32d5d30",
   "metadata": {},
   "outputs": [],
   "source": [
    "if __name__ == '__main__':\n",
    "    x = int(input())\n",
    "    y = int(input())\n",
    "    z = int(input())\n",
    "    n = int(input())\n",
    "    \n",
    "    print(\n",
    "        [ [i, j, k] for i in range(x+1) for j in range(y+1) for k in range(z+1) if i+j+k != n]\n",
    "    )\n"
   ]
  },
  {
   "cell_type": "markdown",
   "id": "3a515b19-7f31-46d6-80c9-70b959e4516c",
   "metadata": {},
   "source": [
    "# [Problem 11: Python Check Subset](https://www.hackerrank.com/challenges/py-check-subset/problem)\n",
    "\n",
    "## Problem Statement\n",
    "\n",
    "You are given two sets of integers, **A** and **B**. Your task is to check if set **A** is a **subset** of set **B**. In other words, every element in **A** should also be present in **B**.\n",
    "\n",
    "### Input Format:\n",
    "- The first line contains an integer **T**, the number of test cases.\n",
    "- For each test case:\n",
    "  - The first line contains the space-separated integers of set **A**.\n",
    "  - The second line contains the space-separated integers of set **B**.\n",
    "\n",
    "### Output Format:\n",
    "- For each test case, print `\"True\"` if set **A** is a subset of set **B**, otherwise print `\"False\"`.\n",
    "\n",
    "### Approach:\n",
    "- Simply checking if set A is subset of B using built-in function\n",
    "#### Code:"
   ]
  },
  {
   "cell_type": "code",
   "execution_count": null,
   "id": "d1e56ca5-abe9-430c-9749-ac334eca9e8e",
   "metadata": {},
   "outputs": [],
   "source": [
    "tt = int(input())\n",
    "for _ in range(tt):\n",
    "    n = int(input())\n",
    "    s1 = set(map(int, input().split()))\n",
    "    m = int(input())\n",
    "    s2 = set(map(int, input().split()))\n",
    "    ok = True\n",
    "    print(s1.issubset(s2))\n"
   ]
  },
  {
   "cell_type": "markdown",
   "id": "610066dc-4acf-4b45-9d38-68a18e5ab26f",
   "metadata": {},
   "source": [
    "# [Problem 12: Ginorts](https://www.hackerrank.com/challenges/ginorts/problem)\n",
    "\n",
    "## Problem Statement\n",
    "\n",
    "You are given a string **s**. Your task is to sort the string according to the following criteria:\n",
    "1. All lowercase letters come before all uppercase letters.\n",
    "2. All uppercase letters come before all digits.\n",
    "3. All digits come before all special characters.\n",
    "4. Within each of the three groups, the elements should be sorted in **lexicographical order** (lowercase letters, uppercase letters, and digits).\n",
    "\n",
    "### Input Format:\n",
    "- A single string **s**.\n",
    "\n",
    "### Output Format:\n",
    "- Print the string **s** after sorting it according to the specified criteria.\n",
    "\n",
    "### Approach:\n",
    "- Sorting the string by custom sort function in the same order as constrains.\n",
    "#### Code:"
   ]
  },
  {
   "cell_type": "code",
   "execution_count": null,
   "id": "6a53a234-89ce-4635-8e01-96b401dc0634",
   "metadata": {},
   "outputs": [],
   "source": [
    "# Enter your code here. Read input from STDIN. Print output to STDOUT\n",
    "\n",
    "s = input().strip()\n",
    "\n",
    "print(''.join(sorted(s, key= lambda x: (\n",
    "    x.isdigit() and int(x)%2==0,\n",
    "    x.isdigit(),\n",
    "    x.isupper(),\n",
    "    x)\n",
    ")))\n"
   ]
  },
  {
   "cell_type": "code",
   "execution_count": null,
   "id": "4ffa212b-8f60-4f92-bbe0-0fe8e4b9bab5",
   "metadata": {},
   "outputs": [],
   "source": []
  }
 ],
 "metadata": {
  "kernelspec": {
   "display_name": "Python 3 (ipykernel)",
   "language": "python",
   "name": "python3"
  },
  "language_info": {
   "codemirror_mode": {
    "name": "ipython",
    "version": 3
   },
   "file_extension": ".py",
   "mimetype": "text/x-python",
   "name": "python",
   "nbconvert_exporter": "python",
   "pygments_lexer": "ipython3",
   "version": "3.12.4"
  }
 },
 "nbformat": 4,
 "nbformat_minor": 5
}
