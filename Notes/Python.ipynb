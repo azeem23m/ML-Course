{
 "cells": [
  {
   "cell_type": "markdown",
   "id": "002a5f8c-aeda-40db-bb9a-bd540733bf22",
   "metadata": {},
   "source": [
    "#### Data Types"
   ]
  },
  {
   "cell_type": "code",
   "execution_count": 4,
   "id": "c35d51a8-bfc1-4015-98bc-cd07a19cec05",
   "metadata": {},
   "outputs": [],
   "source": [
    "a = 5 # int\n",
    "b = 5.2 #float\n",
    "c = True #boolean\n",
    "d = None #null\n",
    "e = \"Text\" #string"
   ]
  },
  {
   "cell_type": "markdown",
   "id": "28511a81-7608-4f35-91c8-5b69133ebe12",
   "metadata": {},
   "source": [
    "#### Control Flow"
   ]
  },
  {
   "cell_type": "code",
   "execution_count": 9,
   "id": "7f165df9-7542-49e9-88e6-8b70d24fe174",
   "metadata": {},
   "outputs": [
    {
     "name": "stdout",
     "output_type": "stream",
     "text": [
      "Second number is greater\n"
     ]
    }
   ],
   "source": [
    "f, s = 99 ,101\n",
    "if f > s:\n",
    "    print(\"First number is greater\")\n",
    "elif f < s:\n",
    "    print(\"Second number is greater\")\n",
    "else:\n",
    "    print(\"Both numbers are equal\")"
   ]
  },
  {
   "cell_type": "markdown",
   "id": "0d7ee447-da27-47a6-a2a4-b6c7c88cf9be",
   "metadata": {},
   "source": [
    "#### Loops"
   ]
  },
  {
   "cell_type": "code",
   "execution_count": 21,
   "id": "77c70d29-2f75-44a6-bb68-f2026db15f43",
   "metadata": {},
   "outputs": [
    {
     "name": "stdout",
     "output_type": "stream",
     "text": [
      "1 2 3 4 5 6 7 8 9 \n",
      "\n",
      "1 3 5 7 9 \n",
      "\n"
     ]
    }
   ],
   "source": [
    "for i in range(1,10):\n",
    "    print(i ,end=\" \")\n",
    "print(\"\\n\")\n",
    "# while loop\n",
    "num = 1\n",
    "while num < 10:\n",
    "    if num % 2:\n",
    "        print(num, end=\" \")\n",
    "    num+=1\n",
    "print(\"\\n\")"
   ]
  },
  {
   "cell_type": "markdown",
   "id": "dc6696cd-3119-4283-a55b-07948bbe5a42",
   "metadata": {},
   "source": [
    "#### Lists"
   ]
  },
  {
   "cell_type": "code",
   "execution_count": 7,
   "id": "16a59205-a368-4c71-9489-72ecbd32cd15",
   "metadata": {},
   "outputs": [
    {
     "name": "stdout",
     "output_type": "stream",
     "text": [
      "[1, 'ttt', 'aaa', True, (2, 3.14)]\n",
      "['ttt', 'aaa', True]\n",
      "2\n"
     ]
    }
   ],
   "source": [
    "ar = [1, 'aaa', True] # muttable dynammic arrays, can hold diffrent types\n",
    "ar.append((2,3.14))\n",
    "ar.insert(1, 'ttt')\n",
    "print(ar)\n",
    "print(ar[1:4])\n",
    "print(ar.count(1))"
   ]
  },
  {
   "cell_type": "markdown",
   "id": "c6f29208-1d27-42ce-b64c-a4afcd47e11b",
   "metadata": {},
   "source": [
    "#### Tuples"
   ]
  },
  {
   "cell_type": "code",
   "execution_count": 10,
   "id": "32d1ba40-9626-4d10-9962-f9d5c7e9003c",
   "metadata": {},
   "outputs": [
    {
     "name": "stdout",
     "output_type": "stream",
     "text": [
      "(5, 'zzz', [1, 2])\n"
     ]
    },
    {
     "data": {
      "text/plain": [
       "(1, 'aaa', True)"
      ]
     },
     "execution_count": 10,
     "metadata": {},
     "output_type": "execute_result"
    }
   ],
   "source": [
    "tup = (5, \"zzz\", [1,2]) # tuples are immutable\n",
    "print(tup)\n",
    "tup = tuple(ar)\n",
    "tup"
   ]
  },
  {
   "cell_type": "markdown",
   "id": "a6df120c-7e5a-45db-bd24-577d9565577f",
   "metadata": {},
   "source": [
    "#### Sets"
   ]
  },
  {
   "cell_type": "code",
   "execution_count": 17,
   "id": "b3ba762b-a679-48d0-ae41-e8f59c27ff68",
   "metadata": {},
   "outputs": [
    {
     "name": "stdout",
     "output_type": "stream",
     "text": [
      "{2, 99, 5}\n"
     ]
    },
    {
     "data": {
      "text/plain": [
       "{5, 99}"
      ]
     },
     "execution_count": 17,
     "metadata": {},
     "output_type": "execute_result"
    }
   ],
   "source": [
    "my_set = set((5,2))\n",
    "my_set.add(99)\n",
    "print(my_set)\n",
    "my_set.remove(2)\n",
    "my_set"
   ]
  },
  {
   "cell_type": "markdown",
   "id": "ca0eec66-8eea-4641-bb0d-bc6f410f894c",
   "metadata": {},
   "source": [
    "#### Dictionaries"
   ]
  },
  {
   "cell_type": "code",
   "execution_count": 20,
   "id": "19e9f92d-dc3d-44c7-8d03-b9957355f7ab",
   "metadata": {},
   "outputs": [
    {
     "name": "stdout",
     "output_type": "stream",
     "text": [
      "{1: 'one', 2: 'two'}\n"
     ]
    },
    {
     "data": {
      "text/plain": [
       "{1: 'one', 2: 'two', 21: 'newValue'}"
      ]
     },
     "execution_count": 20,
     "metadata": {},
     "output_type": "execute_result"
    }
   ],
   "source": [
    "my_dict = dict([(1,'one'), (2,'two')])\n",
    "print(my_dict)\n",
    "my_dict[21] = 'newValue'\n",
    "my_dict"
   ]
  },
  {
   "cell_type": "code",
   "execution_count": 24,
   "id": "c1d3388c-64bb-4203-9207-e4a84a253340",
   "metadata": {},
   "outputs": [
    {
     "data": {
      "text/plain": [
       "<zip at 0x23f6665a780>"
      ]
     },
     "execution_count": 24,
     "metadata": {},
     "output_type": "execute_result"
    }
   ],
   "source": [
    "ll = zip([1,3],[2,4])\n",
    "ll"
   ]
  },
  {
   "cell_type": "markdown",
   "id": "dcf07397-2648-4699-9292-70c98a45110a",
   "metadata": {},
   "source": [
    "#### Functions"
   ]
  },
  {
   "cell_type": "code",
   "execution_count": 30,
   "id": "3d09f6b1-30cd-4fc9-8e47-e7b754cddbc5",
   "metadata": {},
   "outputs": [
    {
     "name": "stdout",
     "output_type": "stream",
     "text": [
      " F:99 S:2 T:3 FR:1 SS:91\n"
     ]
    }
   ],
   "source": [
    "def foo(s, t, fr,f,/,ss):\n",
    "    print(f\" F:{f} S:{s} T:{t} FR:{fr} SS:{ss}\")\n",
    "\n",
    "foo(2, 3,1,99,ss=91)"
   ]
  }
 ],
 "metadata": {
  "kernelspec": {
   "display_name": "Python 3 (ipykernel)",
   "language": "python",
   "name": "python3"
  },
  "language_info": {
   "codemirror_mode": {
    "name": "ipython",
    "version": 3
   },
   "file_extension": ".py",
   "mimetype": "text/x-python",
   "name": "python",
   "nbconvert_exporter": "python",
   "pygments_lexer": "ipython3",
   "version": "3.12.4"
  }
 },
 "nbformat": 4,
 "nbformat_minor": 5
}
