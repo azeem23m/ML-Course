{
 "cells": [
  {
   "cell_type": "code",
   "execution_count": 2,
   "id": "ce0c8698-92e7-4bd6-89d4-a6f7faa51ddb",
   "metadata": {},
   "outputs": [],
   "source": [
    "import numpy as np"
   ]
  },
  {
   "cell_type": "markdown",
   "id": "bd6a6d69-210e-47d4-9734-61ab7a7f9cc6",
   "metadata": {},
   "source": [
    "#### Arrays"
   ]
  },
  {
   "cell_type": "code",
   "execution_count": 4,
   "id": "f5e0ec4c-3b86-4e6c-b6fd-cf2face26ce9",
   "metadata": {},
   "outputs": [
    {
     "name": "stdout",
     "output_type": "stream",
     "text": [
      "2\n",
      "(2, 3)\n",
      "float64\n"
     ]
    }
   ],
   "source": [
    "ar = np.array([[1,2,3],[4,5,6]], dtype=\"float64\") # take sequence object and dtype\n",
    "print(ar.ndim) # number of dimensions\n",
    "print(ar.shape) # shape of ndarray\n",
    "print(ar.dtype) # datatype of ndarray"
   ]
  },
  {
   "cell_type": "code",
   "execution_count": 7,
   "id": "a4dcc1cf-ba10-41f0-b5ca-aa1579ff84f6",
   "metadata": {},
   "outputs": [
    {
     "data": {
      "text/plain": [
       "array([[0., 0., 0.],\n",
       "       [0., 0., 0.]])"
      ]
     },
     "execution_count": 7,
     "metadata": {},
     "output_type": "execute_result"
    }
   ],
   "source": [
    "ar1 = np.zeros(ar.shape) # make an ndarray filled with zeros take array shape or length as input (similar to np.ones)\n",
    "ar1"
   ]
  },
  {
   "cell_type": "code",
   "execution_count": 16,
   "id": "44e4f6cc-8f14-472b-bf76-f3f39290f0d3",
   "metadata": {},
   "outputs": [
    {
     "data": {
      "text/plain": [
       "array([[1.05119723e-311, 0.00000000e+000]])"
      ]
     },
     "execution_count": 16,
     "metadata": {},
     "output_type": "execute_result"
    }
   ],
   "source": [
    "ar2 = np.empty((1,2)) # return ndarray with uninitialized memory\n",
    "ar2"
   ]
  },
  {
   "cell_type": "code",
   "execution_count": 9,
   "id": "7f888aae-5a45-4a4b-911c-595fc2b62f9e",
   "metadata": {},
   "outputs": [
    {
     "data": {
      "text/plain": [
       "array([ 1,  3,  5,  7,  9, 11, 13, 15, 17, 19, 21, 23, 25, 27, 29, 31, 33,\n",
       "       35, 37, 39, 41, 43, 45, 47, 49, 51, 53, 55, 57, 59, 61, 63, 65, 67,\n",
       "       69, 71, 73, 75, 77, 79, 81, 83, 85, 87, 89, 91, 93, 95, 97, 99])"
      ]
     },
     "execution_count": 9,
     "metadata": {},
     "output_type": "execute_result"
    }
   ],
   "source": [
    "ar3 = np.arange(1,100,2) # return a ndarray range\n",
    "ar3"
   ]
  },
  {
   "cell_type": "code",
   "execution_count": 25,
   "id": "8131e15a-e2cd-4ff8-91a6-c9d9f33668a3",
   "metadata": {},
   "outputs": [
    {
     "data": {
      "text/plain": [
       "array([[1., 0., 0., 0.],\n",
       "       [0., 1., 0., 0.],\n",
       "       [0., 0., 1., 0.],\n",
       "       [0., 0., 0., 1.]])"
      ]
     },
     "execution_count": 25,
     "metadata": {},
     "output_type": "execute_result"
    }
   ],
   "source": [
    "ar4 = np.identity(4) # identity matrix\n",
    "ar4"
   ]
  },
  {
   "cell_type": "markdown",
   "id": "5d6e50b8-1f1e-440f-987a-563c7c44681a",
   "metadata": {},
   "source": [
    "#### Datatypes"
   ]
  },
  {
   "cell_type": "code",
   "execution_count": 47,
   "id": "ffd15bca-574c-459d-8002-3953c3582cb4",
   "metadata": {},
   "outputs": [
    {
     "data": {
      "text/plain": [
       "array([1, 2], dtype=int8)"
      ]
     },
     "execution_count": 47,
     "metadata": {},
     "output_type": "execute_result"
    }
   ],
   "source": [
    "a1 = np.array([1,2], dtype=\"int8\") # upto 64 bits (can be unsigned if preceded with 'u')\n",
    "a1"
   ]
  },
  {
   "cell_type": "code",
   "execution_count": 49,
   "id": "f2fb129b-8aab-42a5-904b-a04d57df4b68",
   "metadata": {},
   "outputs": [
    {
     "data": {
      "text/plain": [
       "array([1., 2.], dtype=float16)"
      ]
     },
     "execution_count": 49,
     "metadata": {},
     "output_type": "execute_result"
    }
   ],
   "source": [
    "a2 = np.array([1,2], dtype=\"float16\") # upto 128 bits\n",
    "a2"
   ]
  },
  {
   "cell_type": "code",
   "execution_count": 53,
   "id": "18df76bf-80f3-4818-939e-62d94b4d9ed0",
   "metadata": {},
   "outputs": [
    {
     "data": {
      "text/plain": [
       "array([1.+0.j, 2.+0.j], dtype=complex64)"
      ]
     },
     "execution_count": 53,
     "metadata": {},
     "output_type": "execute_result"
    }
   ],
   "source": [
    "a3 = np.array((1,2), dtype=\"complex64\") # upto 265 bits (represented by two 128-bit floats)\n",
    "a3"
   ]
  },
  {
   "cell_type": "code",
   "execution_count": 51,
   "id": "985f9ef4-bd14-400a-b9ae-c192a05848cb",
   "metadata": {},
   "outputs": [
    {
     "data": {
      "text/plain": [
       "array([ True, False])"
      ]
     },
     "execution_count": 51,
     "metadata": {},
     "output_type": "execute_result"
    }
   ],
   "source": [
    "a4 = np.array((1,0), dtype=\"bool\") # boolean ndarray\n",
    "a4"
   ]
  },
  {
   "cell_type": "code",
   "execution_count": 57,
   "id": "90c8c00d-af5d-4d5f-9a72-601a5cb4ba2d",
   "metadata": {},
   "outputs": [
    {
     "data": {
      "text/plain": [
       "dtype('float64')"
      ]
     },
     "execution_count": 57,
     "metadata": {},
     "output_type": "execute_result"
    }
   ],
   "source": [
    "ar1_float = a1.astype(np.float64) # any ndarray can be casted to another type\n",
    "ar1_float.dtype"
   ]
  },
  {
   "cell_type": "code",
   "execution_count": 64,
   "id": "f4036394-9313-406f-bf41-07527803e54f",
   "metadata": {},
   "outputs": [
    {
     "data": {
      "text/plain": [
       "array([[1.23e+07],\n",
       "       [5.00e-03]])"
      ]
     },
     "execution_count": 64,
     "metadata": {},
     "output_type": "execute_result"
    }
   ],
   "source": [
    "ar_str = np.array([[\"123e5\"],[\"0.005\"]])\n",
    "ar_str.astype(np.float64)"
   ]
  },
  {
   "cell_type": "markdown",
   "id": "564a8fff-7ef9-4b73-8b92-5982a8192e09",
   "metadata": {},
   "source": [
    "#### Arithmetics"
   ]
  },
  {
   "cell_type": "code",
   "execution_count": 33,
   "id": "691028a8-52c5-43c1-ae0b-109f3653f075",
   "metadata": {},
   "outputs": [
    {
     "data": {
      "text/plain": [
       "array([[ 10.  ,  32.  ,  47.4 ],\n",
       "       [134.  ,   0.  ,  11.56]])"
      ]
     },
     "execution_count": 33,
     "metadata": {},
     "output_type": "execute_result"
    }
   ],
   "source": [
    "my_arr = np.array([\n",
    "    [5,16,23.7],\n",
    "    [67, 0, 5.78]\n",
    "])\n",
    "my_arr * 2 # element wise operations"
   ]
  },
  {
   "cell_type": "code",
   "execution_count": 68,
   "id": "03f09b66-c9d8-4aab-b0eb-67d1eacfafa1",
   "metadata": {},
   "outputs": [
    {
     "data": {
      "text/plain": [
       "array([[1.25000000e+02, 4.09600000e+03, 1.33120530e+04],\n",
       "       [3.00763000e+05, 0.00000000e+00, 1.93100552e+02]])"
      ]
     },
     "execution_count": 68,
     "metadata": {},
     "output_type": "execute_result"
    }
   ],
   "source": [
    "my_arr ** 3"
   ]
  },
  {
   "cell_type": "code",
   "execution_count": 70,
   "id": "d15ec3dd-4997-46d9-a243-ec3f5d51fac1",
   "metadata": {},
   "outputs": [
    {
     "data": {
      "text/plain": [
       "array([[ 3.  , 14.  , 21.7 ],\n",
       "       [65.  , -2.  ,  3.78]])"
      ]
     },
     "execution_count": 70,
     "metadata": {},
     "output_type": "execute_result"
    }
   ],
   "source": [
    "my_arr - 2"
   ]
  },
  {
   "cell_type": "code",
   "execution_count": 71,
   "id": "fe9734c4-b1e1-4469-89de-315d253db3a9",
   "metadata": {},
   "outputs": [
    {
     "data": {
      "text/plain": [
       "array([[20.  , 31.  , 38.7 ],\n",
       "       [82.  , 15.  , 20.78]])"
      ]
     },
     "execution_count": 71,
     "metadata": {},
     "output_type": "execute_result"
    }
   ],
   "source": [
    "my_arr + 15"
   ]
  },
  {
   "cell_type": "code",
   "execution_count": 75,
   "id": "66d6e46d-964b-4b33-a057-58fe610ed1c1",
   "metadata": {},
   "outputs": [
    {
     "data": {
      "text/plain": [
       "array([[ True,  True,  True],\n",
       "       [ True, False,  True]])"
      ]
     },
     "execution_count": 75,
     "metadata": {},
     "output_type": "execute_result"
    }
   ],
   "source": [
    "my_arr > ar1 # both arrays have to be of the same size"
   ]
  },
  {
   "cell_type": "markdown",
   "id": "9645edfa-3ba1-4ace-bf76-cef837e88fb7",
   "metadata": {},
   "source": [
    "#### Indexing & Slicing"
   ]
  },
  {
   "cell_type": "code",
   "execution_count": 85,
   "id": "2e142da6-c934-4f40-ae64-b0f8d2f4ab62",
   "metadata": {},
   "outputs": [
    {
     "data": {
      "text/plain": [
       "array([ 1,  2,  3,  4,  5,  6,  7,  8,  9, 10, 11, 12, 13, 14])"
      ]
     },
     "execution_count": 85,
     "metadata": {},
     "output_type": "execute_result"
    }
   ],
   "source": [
    "Arr = np.arange(1,15)\n",
    "Arr"
   ]
  },
  {
   "cell_type": "code",
   "execution_count": 90,
   "id": "fcfd875a-0d3e-4f87-ab27-528220f27dd8",
   "metadata": {},
   "outputs": [
    {
     "data": {
      "text/plain": [
       "array([4, 5, 6, 7, 8])"
      ]
     },
     "execution_count": 90,
     "metadata": {},
     "output_type": "execute_result"
    }
   ],
   "source": [
    "Arr[3:8] # [start:end:step]"
   ]
  },
  {
   "cell_type": "code",
   "execution_count": 88,
   "id": "2911a8de-cd6a-4dbc-a500-267468cac330",
   "metadata": {},
   "outputs": [
    {
     "data": {
      "text/plain": [
       "array([ 3,  5,  7,  9, 11, 13])"
      ]
     },
     "execution_count": 88,
     "metadata": {},
     "output_type": "execute_result"
    }
   ],
   "source": [
    "Arr[2:13:2]"
   ]
  },
  {
   "cell_type": "code",
   "execution_count": 89,
   "id": "197c5422-b2ed-484d-80f9-0f5a87fe4168",
   "metadata": {},
   "outputs": [
    {
     "data": {
      "text/plain": [
       "array([1, 2, 3, 4, 5, 6])"
      ]
     },
     "execution_count": 89,
     "metadata": {},
     "output_type": "execute_result"
    }
   ],
   "source": [
    "Arr[:6]"
   ]
  },
  {
   "cell_type": "code",
   "execution_count": 93,
   "id": "2467cdc4-599e-4a84-a6ee-5a1d03f2a275",
   "metadata": {},
   "outputs": [
    {
     "data": {
      "text/plain": [
       "array([ 1,  2, 99, 99, 99, 99, 99,  8,  9, 10, 11, 12, 13, 14])"
      ]
     },
     "execution_count": 93,
     "metadata": {},
     "output_type": "execute_result"
    }
   ],
   "source": [
    "Arr[2:7] = 99 # values can be broadcasted to a section\n",
    "Arr"
   ]
  },
  {
   "cell_type": "code",
   "execution_count": 97,
   "id": "eca37d48-831e-483a-b940-f206e3d06dc3",
   "metadata": {},
   "outputs": [
    {
     "data": {
      "text/plain": [
       "array([ 5,  2, 99, 99, 99, 99, 99,  8,  9, 10, 11, 12, 13, 14])"
      ]
     },
     "execution_count": 97,
     "metadata": {},
     "output_type": "execute_result"
    }
   ],
   "source": [
    "Arr_section = Arr[:3] # modifications of selected section reflect on original array\n",
    "Arr_section[0] = 5\n",
    "Arr"
   ]
  },
  {
   "cell_type": "code",
   "execution_count": 103,
   "id": "f95b3eda-45ed-40be-91c1-41ea91007c71",
   "metadata": {},
   "outputs": [
    {
     "data": {
      "text/plain": [
       "array([12, 13, 14])"
      ]
     },
     "execution_count": 103,
     "metadata": {},
     "output_type": "execute_result"
    }
   ],
   "source": [
    "copied_section = Arr[11:14].copy() # explicitly copy array\n",
    "copied_section"
   ]
  },
  {
   "cell_type": "code",
   "execution_count": 105,
   "id": "f6e18969-fb68-4cb8-9968-897a639630b7",
   "metadata": {},
   "outputs": [
    {
     "data": {
      "text/plain": [
       "array([ 12,  13, 128])"
      ]
     },
     "execution_count": 105,
     "metadata": {},
     "output_type": "execute_result"
    }
   ],
   "source": [
    "copied_section[2] = 128\n",
    "copied_section"
   ]
  },
  {
   "cell_type": "code",
   "execution_count": 106,
   "id": "a861cf02-fd27-4946-859b-f77a5d52a7d0",
   "metadata": {},
   "outputs": [
    {
     "data": {
      "text/plain": [
       "array([ 5,  2, 99, 99, 99, 99, 99,  8,  9, 10, 11, 12, 13, 14])"
      ]
     },
     "execution_count": 106,
     "metadata": {},
     "output_type": "execute_result"
    }
   ],
   "source": [
    "Arr"
   ]
  },
  {
   "cell_type": "markdown",
   "id": "bb573417-353e-4729-9f90-64f2acbd9e3c",
   "metadata": {},
   "source": [
    "#### Multidimintional Array Indexing & Slicing"
   ]
  },
  {
   "cell_type": "code",
   "execution_count": 11,
   "id": "d3bc136a-7de3-4c20-8eeb-de66def689d5",
   "metadata": {},
   "outputs": [
    {
     "data": {
      "text/plain": [
       "(3, 2, 3)"
      ]
     },
     "execution_count": 11,
     "metadata": {},
     "output_type": "execute_result"
    }
   ],
   "source": [
    "_arr = np.array([\n",
    "                [[1,2,3],[4,5,6]],\n",
    "                [[1,2,3],[4,5,6,]],\n",
    "                [[7,8,9],[10,11,12]]\n",
    "                ])\n",
    "_arr.shape"
   ]
  },
  {
   "cell_type": "code",
   "execution_count": 14,
   "id": "73b94626-6e7e-4998-98b3-bb8488c67663",
   "metadata": {},
   "outputs": [
    {
     "data": {
      "text/plain": [
       "array([[[ 1,  2,  3],\n",
       "        [ 0,  0,  0]],\n",
       "\n",
       "       [[ 1,  2,  3],\n",
       "        [ 0,  0,  0]],\n",
       "\n",
       "       [[ 7,  8,  9],\n",
       "        [10, 11, 12]]])"
      ]
     },
     "execution_count": 14,
     "metadata": {},
     "output_type": "execute_result"
    }
   ],
   "source": [
    "_arr[0:2,1:] = 0 # filling the last array from first two dimensions with 0\n",
    "_arr"
   ]
  },
  {
   "cell_type": "markdown",
   "id": "d08d62cd-2782-477c-8470-ffb70307539d",
   "metadata": {},
   "source": [
    "#### Boolean Indexing"
   ]
  },
  {
   "cell_type": "code",
   "execution_count": 172,
   "id": "cad4a0fa-59c6-4969-8ce3-47a46f1e0915",
   "metadata": {},
   "outputs": [
    {
     "data": {
      "text/plain": [
       "array([ True, False, False,  True, False, False, False])"
      ]
     },
     "execution_count": 172,
     "metadata": {},
     "output_type": "execute_result"
    }
   ],
   "source": [
    "names = np.array(['Bob', 'Joe', 'Will', 'Bob', 'Will', 'Joe', 'Joe']) # select items with value \"Bob\"\n",
    "names==\"Bob\""
   ]
  },
  {
   "cell_type": "code",
   "execution_count": 178,
   "id": "fb560fd4-4b66-4114-b5cb-8b0ce24e908a",
   "metadata": {},
   "outputs": [
    {
     "data": {
      "text/plain": [
       "array([ True,  True, False,  True, False,  True,  True])"
      ]
     },
     "execution_count": 178,
     "metadata": {},
     "output_type": "execute_result"
    }
   ],
   "source": [
    "(names==\"Bob\") | (names==\"Joe\") # selcet items with value \"Bob\" or \"Will\""
   ]
  },
  {
   "cell_type": "code",
   "execution_count": 167,
   "id": "6d17b657-d3be-485c-9c4d-a56721093d72",
   "metadata": {},
   "outputs": [
    {
     "data": {
      "text/plain": [
       "(7, 3)"
      ]
     },
     "execution_count": 167,
     "metadata": {},
     "output_type": "execute_result"
    }
   ],
   "source": [
    "data = np.array([[4, 7, 9], [0, 2, 4], [-5, 6, 3], [0, 0, 0], [1, 2, 8],[-12, -4, 15], [3, 4, 3]])\n",
    "data.shape"
   ]
  },
  {
   "cell_type": "code",
   "execution_count": 173,
   "id": "dd55f434-ab66-4e73-819f-22f2b58f0073",
   "metadata": {},
   "outputs": [
    {
     "data": {
      "text/plain": [
       "array([[6, 3],\n",
       "       [2, 8]])"
      ]
     },
     "execution_count": 173,
     "metadata": {},
     "output_type": "execute_result"
    }
   ],
   "source": [
    "data[names==\"Will\", 1:] # select items in data with corresponding name \"Will\" in names array, then slice from index 1 to end\n",
    "# NOTE: the first axis of both arrays have to be equal"
   ]
  },
  {
   "cell_type": "markdown",
   "id": "abe08c89-8fa8-4a18-9e96-092a07628d9e",
   "metadata": {},
   "source": [
    "#### Fancy Indexing"
   ]
  },
  {
   "cell_type": "code",
   "execution_count": 185,
   "id": "e0b4a844-a681-4d35-bdf7-6d8e0731a6c7",
   "metadata": {},
   "outputs": [
    {
     "data": {
      "text/plain": [
       "array([[0, 0, 0, 0, 0],\n",
       "       [1, 1, 1, 1, 1],\n",
       "       [2, 2, 2, 2, 2],\n",
       "       [3, 3, 3, 3, 3],\n",
       "       [4, 4, 4, 4, 4],\n",
       "       [5, 5, 5, 5, 5],\n",
       "       [6, 6, 6, 6, 6],\n",
       "       [7, 7, 7, 7, 7]])"
      ]
     },
     "execution_count": 185,
     "metadata": {},
     "output_type": "execute_result"
    }
   ],
   "source": [
    "__ar = np.array([[y for x in range(5)] for y in range(8)])\n",
    "__ar"
   ]
  },
  {
   "cell_type": "code",
   "execution_count": 188,
   "id": "37e68e43-42f9-4576-bda5-fd1974fdd6e5",
   "metadata": {},
   "outputs": [
    {
     "data": {
      "text/plain": [
       "array([[4, 4, 4, 4, 4],\n",
       "       [3, 3, 3, 3, 3],\n",
       "       [0, 0, 0, 0, 0],\n",
       "       [6, 6, 6, 6, 6]])"
      ]
     },
     "execution_count": 188,
     "metadata": {},
     "output_type": "execute_result"
    }
   ],
   "source": [
    "__ar[[4,3,0,6]] # select rows in desirable order"
   ]
  },
  {
   "cell_type": "markdown",
   "id": "9801b602-c6ea-4ef2-9786-334bcfde235e",
   "metadata": {},
   "source": [
    "#### Expressing Conditional Logic as Array Operations"
   ]
  },
  {
   "cell_type": "code",
   "execution_count": 34,
   "id": "bf009841-0c8a-4534-b498-7f596823f659",
   "metadata": {},
   "outputs": [
    {
     "data": {
      "text/plain": [
       "array([ 1,  7,  3,  4, 10])"
      ]
     },
     "execution_count": 34,
     "metadata": {},
     "output_type": "execute_result"
    }
   ],
   "source": [
    "xar = np.array([1,2,3,4,5])\n",
    "yar = np.array([6,7,8,9,10])\n",
    "boolar = np.array([True, False, True, True, False])\n",
    "np.where(boolar, xar, yar) # If true element from first arr is chosen else it's chosen from second arr (have to have same shape)"
   ]
  },
  {
   "cell_type": "markdown",
   "id": "f9610c4d-6150-43a7-a91b-82091fd7f71d",
   "metadata": {},
   "source": [
    "#### Mathematical and Statistical Methods"
   ]
  },
  {
   "cell_type": "code",
   "execution_count": 25,
   "id": "b937846d-3e81-4ce8-a7ec-74c6b469fd08",
   "metadata": {},
   "outputs": [
    {
     "data": {
      "text/plain": [
       "np.int64(15)"
      ]
     },
     "execution_count": 25,
     "metadata": {},
     "output_type": "execute_result"
    }
   ],
   "source": [
    "mArr = xar.copy()\n",
    "mArr.sum()"
   ]
  },
  {
   "cell_type": "code",
   "execution_count": 26,
   "id": "5eb685e8-0ad8-48a3-ba8b-02ef6743789f",
   "metadata": {},
   "outputs": [
    {
     "data": {
      "text/plain": [
       "np.float64(3.0)"
      ]
     },
     "execution_count": 26,
     "metadata": {},
     "output_type": "execute_result"
    }
   ],
   "source": [
    "mArr.mean()"
   ]
  },
  {
   "cell_type": "code",
   "execution_count": 29,
   "id": "d84bbf81-b13b-44d4-bd6b-f179016f3feb",
   "metadata": {},
   "outputs": [
    {
     "data": {
      "text/plain": [
       "np.float64(1.4142135623730951)"
      ]
     },
     "execution_count": 29,
     "metadata": {},
     "output_type": "execute_result"
    }
   ],
   "source": [
    "mArr.std() # standard deviation"
   ]
  },
  {
   "cell_type": "code",
   "execution_count": null,
   "id": "167b738c-d9a1-4f93-a5d3-45df2c6c511a",
   "metadata": {},
   "outputs": [],
   "source": []
  }
 ],
 "metadata": {
  "kernelspec": {
   "display_name": "Python 3 (ipykernel)",
   "language": "python",
   "name": "python3"
  },
  "language_info": {
   "codemirror_mode": {
    "name": "ipython",
    "version": 3
   },
   "file_extension": ".py",
   "mimetype": "text/x-python",
   "name": "python",
   "nbconvert_exporter": "python",
   "pygments_lexer": "ipython3",
   "version": "3.12.4"
  }
 },
 "nbformat": 4,
 "nbformat_minor": 5
}
